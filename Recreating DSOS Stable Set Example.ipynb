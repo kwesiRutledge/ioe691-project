{
 "cells": [
  {
   "cell_type": "markdown",
   "metadata": {},
   "source": [
    "# Recreating the 'DSOS and SDSOS' Paper's Stable Set Example\n",
    "\n",
    "The following implementation is meant to recreate with Julia the results obtained by Dr. Ahmadi in: \"DSOS and SDSOS Optimization: More Tractable Alternatives to Sum of Squares and Semidefinite Optimization\" by Amir Ali Ahmadi and Anirudha Majumdar. See [arXiv:1706.02586](https://arxiv.org/abs/1706.02586)."
   ]
  },
  {
   "cell_type": "markdown",
   "metadata": {},
   "source": [
    "## Problem Statement\n",
    "First, we will introduce the problem. The goal of this example (#4.2 in the text) is to identify the largest independent set of a graph $G = (\\mathcal{V},\\mathcal{E})$ on $n$ nodes.\n",
    "\n",
    "Recall that an independent set according to Wikipedia is \n",
    "> [a set S of vertices such that for every two vertices in S, there is no edge connecting the two](https://en.wikipedia.org/wiki/Independent_set_(graph_theory)).\n",
    "\n",
    "After using duality and a number of other methods outlined in CITATION NEEDED, this can be posed as the following optimization problem:\n",
    "\n",
    "$$\n",
    "\\begin{array}{rl}\n",
    "    \\underset{\\gamma}{\\text{minimize}} & \\gamma \\\\\n",
    "    \\text{subject to} & \\gamma \\cdot (A+I) - J \\in \\mathcal{C}_n\n",
    "\\end{array}\n",
    "$$\n",
    "where\n",
    "* $A$ is the adjacency matrix of the graph $G$\n",
    "* $I$ is the identity matrix\n",
    "* and $\\mathcal{C}_n$ is the set of $n \\times n$ copositive matrices\n",
    "\n",
    "The set of copositive matrices is defined as the following\n",
    "$$\n",
    "\\mathcal{C}_n = \\{ P \\in \\mathbb{R}^{n \\times n} \\; | \\; x^\\top P x \\geq 0 \\; \\forall x \\geq 0 \\}\n",
    "$$"
   ]
  },
  {
   "cell_type": "markdown",
   "metadata": {},
   "source": [
    "## Solution Approach\n",
    "\n",
    "Such an optimization problem is tricky because it is not easy to optimize over the set of copositive matrices. There is a work around, however, which focuses on the polynomials that can be made with an arbitrary copositive matrix $M \\in \\mathcal{C}_n$. Consider the following polynomial:\n",
    "$$ P(x) := (x \\circ x)^\\top M (x \\circ x) = \\sum_{i,j=1}^n M_{ij} x_i^2 x_j^2$$\n",
    "where \"$\\circ$\" indicates the componentwise (Hadamard) product. Now, in this form it is clear that $P(x)$ is nonnegative if and only if the the matrix $M$ is copositive.\n",
    "\n",
    "If we could verify nonnegativity of a polynomial easily, then this necessary and sufficient condition is all that we would need to test (\"Is $P(x) \\geq 0 \\; \\forall x \\in \\mathbb{R}^n?$\") Unfortunately, checking nonnegativity is very difficult. One test that can be done more quickly is the test for a polynomial being Sum of Squares.\n",
    "\n",
    "Recall that:\n",
    "> A multivariate polynomial $p:=p(x)$ in $n$ variables and of degree $2d$ is a sum of squares if and only if there exists a symmetric matrix $Q$ (often called the gram matrix) such that\n",
    "$$\n",
    "\\begin{array}{rcl}\n",
    "    p(x) & = & z^\\top Q z \\\\\n",
    "    Q & \\succeq & 0\n",
    "\\end{array}\n",
    "$$\n",
    "where $z$ is the vector of monomials of degree up to $d$:\n",
    "$$ z = [1,x_1,x_2,...,x_n,x_1,x_2,...,x_n^d]. $$"
   ]
  },
  {
   "cell_type": "code",
   "execution_count": 1,
   "metadata": {
    "collapsed": false
   },
   "outputs": [],
   "source": [
    "#Importing Libraries\n",
    "import JuMP\n",
    "import DynamicPolynomials\n",
    "import SumOfSquares\n",
    "import LinearAlgebra\n",
    "import MosekTools #We need an SDP Optimizer"
   ]
  },
  {
   "cell_type": "markdown",
   "metadata": {},
   "source": [
    "## Example 1: Isocahedron\n",
    "![Isocahedron Example](https://upload.wikimedia.org/wikipedia/commons/8/83/Icosahedron_graph.svg \"ISocahedron Example\")\n",
    "\n"
   ]
  },
  {
   "cell_type": "code",
   "execution_count": 2,
   "metadata": {
    "collapsed": false
   },
   "outputs": [
    {
     "data": {
      "text/plain": [
       "12×12 Array{Int64,2}:\n",
       " 0  1  1  1  1  1  0  0  0  0  0  0\n",
       " 1  0  1  1  0  0  0  0  0  1  0  1\n",
       " 1  1  0  0  0  1  0  0  0  0  1  1\n",
       " 1  1  0  0  1  0  1  0  0  1  0  0\n",
       " 1  0  0  1  0  1  1  1  0  0  0  0\n",
       " 1  0  1  0  1  0  0  1  0  0  1  0\n",
       " 0  0  0  1  1  0  0  1  1  1  0  0\n",
       " 0  0  0  0  1  1  1  0  1  0  1  0\n",
       " 0  0  0  0  0  0  1  1  0  1  1  1\n",
       " 0  1  0  1  0  0  1  0  1  0  0  1\n",
       " 0  0  1  0  0  1  0  1  1  0  0  1\n",
       " 0  1  1  0  0  0  0  0  1  1  1  0"
      ]
     },
     "execution_count": 2,
     "metadata": {},
     "output_type": "execute_result"
    }
   ],
   "source": [
    "#It's adjacency matrix.\n",
    "A = [0 1 1 1 1 1 0 0 0 0 0 0;\n",
    "     1 0 1 1 0 0 0 0 0 1 0 1;\n",
    "     1 1 0 0 0 1 0 0 0 0 1 1;\n",
    "     1 1 0 0 1 0 1 0 0 1 0 0;\n",
    "     1 0 0 1 0 1 1 1 0 0 0 0;\n",
    "     1 0 1 0 1 0 0 1 0 0 1 0;\n",
    "     0 0 0 1 1 0 0 1 1 1 0 0;\n",
    "     0 0 0 0 1 1 1 0 1 0 1 0;\n",
    "     0 0 0 0 0 0 1 1 0 1 1 1;\n",
    "     0 1 0 1 0 0 1 0 1 0 0 1;\n",
    "     0 0 1 0 0 1 0 1 1 0 0 1\n",
    "     0 1 1 0 0 0 0 0 1 1 1 0]\n"
   ]
  },
  {
   "cell_type": "code",
   "execution_count": 13,
   "metadata": {
    "collapsed": false
   },
   "outputs": [
    {
     "ename": "InterruptException",
     "evalue": "InterruptException:",
     "output_type": "error",
     "traceback": [
      "InterruptException:",
      "",
      "Stacktrace:",
      " [1] Type at ./boot.jl:402 [inlined]",
      " [2] Type at ./boot.jl:411 [inlined]",
      " [3] Type at ./boot.jl:419 [inlined]",
      " [4] similar at ./abstractarray.jl:618 [inlined]",
      " [5] similar at ./abstractarray.jl:617 [inlined]",
      " [6] ensurefree(::MosekTools.LinkedInts, ::Int64) at /Users/kwesirutledge/.julia/packages/MosekTools/GeypE/src/LinkedInts.jl:105",
      " [7] allocatevarconstraints(::MosekModel, ::Int64) at /Users/kwesirutledge/.julia/packages/MosekTools/GeypE/src/constraint.jl:246",
      " [8] add_constraint(::MosekModel, ::MathOptInterface.VectorOfVariables, ::MathOptInterface.RotatedSecondOrderCone) at /Users/kwesirutledge/.julia/packages/MosekTools/GeypE/src/constraint.jl:395",
      " [9] add_constraint at /Users/kwesirutledge/.julia/packages/MathOptInterface/C3lip/src/Bridges/bridgeoptimizer.jl:323 [inlined]",
      " [10] MathOptInterface.Bridges.VectorSlackBridge{Float64,MathOptInterface.VectorAffineFunction{Float64},MathOptInterface.RotatedSecondOrderCone}(::MathOptInterface.Bridges.LazyBridgeOptimizer{MosekModel,MathOptInterface.Utilities.UniversalFallback{MathOptInterface.Bridges.AllBridgedConstraints{Float64}}}, ::MathOptInterface.VectorAffineFunction{Float64}, ::MathOptInterface.RotatedSecondOrderCone) at /Users/kwesirutledge/.julia/packages/MathOptInterface/C3lip/src/Bridges/slackbridge.jl:112",
      " [11] add_constraint(::MathOptInterface.Bridges.LazyBridgeOptimizer{MosekModel,MathOptInterface.Utilities.UniversalFallback{MathOptInterface.Bridges.AllBridgedConstraints{Float64}}}, ::MathOptInterface.VectorAffineFunction{Float64}, ::MathOptInterface.RotatedSecondOrderCone) at /Users/kwesirutledge/.julia/packages/MathOptInterface/C3lip/src/Bridges/bridgeoptimizer.jl:320",
      " [12] SumOfSquares.PositiveSemidefinite2x2Bridge{Float64,MathOptInterface.VectorAffineFunction{Float64}}(::MathOptInterface.Bridges.LazyBridgeOptimizer{MosekModel,MathOptInterface.Utilities.UniversalFallback{MathOptInterface.Bridges.AllBridgedConstraints{Float64}}}, ::MathOptInterface.VectorOfVariables, ::SumOfSquares.PositiveSemidefinite2x2ConeTriangle) at /Users/kwesirutledge/.julia/packages/SumOfSquares/mAduI/src/psd2x2_bridge.jl:14",
      " [13] add_constraint(::MathOptInterface.Bridges.LazyBridgeOptimizer{MosekModel,MathOptInterface.Utilities.UniversalFallback{MathOptInterface.Bridges.AllBridgedConstraints{Float64}}}, ::MathOptInterface.VectorOfVariables, ::SumOfSquares.PositiveSemidefinite2x2ConeTriangle) at /Users/kwesirutledge/.julia/packages/MathOptInterface/C3lip/src/Bridges/bridgeoptimizer.jl:320",
      " [14] add_variable_bridge(::Type{SumOfSquares.ScaledDiagonallyDominantVariableBridge{Float64}}, ::MathOptInterface.Bridges.LazyBridgeOptimizer{MosekModel,MathOptInterface.Utilities.UniversalFallback{MathOptInterface.Bridges.AllBridgedConstraints{Float64}}}, ::SumOfSquares.ScaledDiagonallyDominantConeTriangle) at /Users/kwesirutledge/.julia/packages/SumOfSquares/mAduI/src/scaled_diagonally_dominant_variable_bridge.jl:40",
      " [15] add_matrix_variable_bridge(::MathOptInterface.Bridges.LazyBridgeOptimizer{MosekModel,MathOptInterface.Utilities.UniversalFallback{MathOptInterface.Bridges.AllBridgedConstraints{Float64}}}, ::Type, ::Int64, ::Type) at /Users/kwesirutledge/.julia/packages/SumOfSquares/mAduI/src/utilities.jl:22",
      " [16] SumOfSquares.SOSPolynomialBridge{Float64,MathOptInterface.VectorAffineFunction{Float64},SemialgebraicSets.FullSpace,Union{GenericVariableBridge{Float64,Nonnegatives}, GenericVariableBridge{Float64,EmptyCone}, GenericVariableBridge{Float64,PositiveSemidefinite2x2ConeTriangle}, ScaledDiagonallyDominantVariableBridge{Float64}},SumOfSquares.ScaledDiagonallyDominantConeTriangle,MonomialBasis,Monomial{true},MonomialVector{true}}(::MathOptInterface.Bridges.LazyBridgeOptimizer{MosekModel,MathOptInterface.Utilities.UniversalFallback{MathOptInterface.Bridges.AllBridgedConstraints{Float64}}}, ::MathOptInterface.VectorAffineFunction{Float64}, ::SumOfSquares.SOSPolynomialSet{SemialgebraicSets.FullSpace,NonnegPolyInnerCone{SumOfSquares.ScaledDiagonallyDominantConeTriangle},MonomialBasis,Monomial{true},MonomialVector{true},Tuple{}}) at /Users/kwesirutledge/.julia/packages/SumOfSquares/mAduI/src/sos_polynomial_bridge.jl:26",
      " [17] add_constraints(::MathOptInterface.Bridges.LazyBridgeOptimizer{MosekModel,MathOptInterface.Utilities.UniversalFallback{MathOptInterface.Bridges.AllBridgedConstraints{Float64}}}, ::Array{MathOptInterface.VectorAffineFunction{Float64},1}, ::Array{SumOfSquares.SOSPolynomialSet{SemialgebraicSets.FullSpace,NonnegPolyInnerCone{SumOfSquares.ScaledDiagonallyDominantConeTriangle},MonomialBasis,Monomial{true},MonomialVector{true},Tuple{}},1}) at /Users/kwesirutledge/.julia/packages/MathOptInterface/C3lip/src/Bridges/bridgeoptimizer.jl:338",
      " [18] copyconstraints!(::MathOptInterface.Bridges.LazyBridgeOptimizer{MosekModel,MathOptInterface.Utilities.UniversalFallback{MathOptInterface.Bridges.AllBridgedConstraints{Float64}}}, ::MathOptInterface.Utilities.UniversalFallback{JuMP._MOIModel{Float64}}, ::Bool, ::MathOptInterface.Utilities.IndexMap, ::Type{MathOptInterface.VectorAffineFunction{Float64}}, ::Type{SumOfSquares.SOSPolynomialSet{SemialgebraicSets.FullSpace,NonnegPolyInnerCone{SumOfSquares.ScaledDiagonallyDominantConeTriangle},MonomialBasis,Monomial{true},MonomialVector{true},Tuple{}}}) at /Users/kwesirutledge/.julia/packages/MathOptInterface/C3lip/src/Utilities/copy.jl:157",
      " [19] default_copy_to(::MathOptInterface.Bridges.LazyBridgeOptimizer{MosekModel,MathOptInterface.Utilities.UniversalFallback{MathOptInterface.Bridges.AllBridgedConstraints{Float64}}}, ::MathOptInterface.Utilities.UniversalFallback{JuMP._MOIModel{Float64}}, ::Bool) at /Users/kwesirutledge/.julia/packages/MathOptInterface/C3lip/src/Utilities/copy.jl:200",
      " [20] #automatic_copy_to#61 at /Users/kwesirutledge/.julia/packages/MathOptInterface/C3lip/src/Utilities/copy.jl:15 [inlined]",
      " [21] #automatic_copy_to at ./none:0 [inlined]",
      " [22] #copy_to#1 at /Users/kwesirutledge/.julia/packages/MathOptInterface/C3lip/src/Bridges/bridgeoptimizer.jl:91 [inlined]",
      " [23] (::getfield(MathOptInterface, Symbol(\"#kw##copy_to\")))(::NamedTuple{(:copy_names,),Tuple{Bool}}, ::typeof(MathOptInterface.copy_to), ::MathOptInterface.Bridges.LazyBridgeOptimizer{MosekModel,MathOptInterface.Utilities.UniversalFallback{MathOptInterface.Bridges.AllBridgedConstraints{Float64}}}, ::MathOptInterface.Utilities.UniversalFallback{JuMP._MOIModel{Float64}}) at ./none:0",
      " [24] attach_optimizer(::MathOptInterface.Utilities.CachingOptimizer{MathOptInterface.AbstractOptimizer,MathOptInterface.Utilities.UniversalFallback{JuMP._MOIModel{Float64}}}) at /Users/kwesirutledge/.julia/packages/MathOptInterface/C3lip/src/Utilities/cachingoptimizer.jl:130",
      " [25] optimize!(::MathOptInterface.Utilities.CachingOptimizer{MathOptInterface.AbstractOptimizer,MathOptInterface.Utilities.UniversalFallback{JuMP._MOIModel{Float64}}}) at /Users/kwesirutledge/.julia/packages/MathOptInterface/C3lip/src/Utilities/cachingoptimizer.jl:166",
      " [26] #optimize!#77(::Bool, ::Bool, ::Function, ::Model, ::Nothing) at /Users/kwesirutledge/.julia/packages/JuMP/jnmGG/src/optimizer_interface.jl:132",
      " [27] optimize! at /Users/kwesirutledge/.julia/packages/JuMP/jnmGG/src/optimizer_interface.jl:105 [inlined] (repeats 2 times)",
      " [28] top-level scope at In[13]:17"
     ]
    }
   ],
   "source": [
    "using DynamicPolynomials\n",
    "@polyvar x[1:12]\n",
    "\n",
    "P =  (x.*x)'*A*(x.*x)\n",
    "\n",
    "#Load the Optimizer\n",
    "using MosekTools\n",
    "factory = JuMP.with_optimizer(Mosek.Optimizer, QUIET=true);\n",
    "\n",
    "r = 2;\n",
    "\n",
    "using SumOfSquares\n",
    "model = SOSModel(factory)\n",
    "@variable(model,gamma)\n",
    "@objective(model,Min,gamma)\n",
    "mat_cref2 = @constraint(model, ((x.*x)'*(gamma.*(A+LinearAlgebra.I)-ones(12,12))*(x.*x)).*(x'*x)^r in SDSOSCone())\n",
    "optimize!(model)\n",
    "termination_status(model)"
   ]
  },
  {
   "cell_type": "code",
   "execution_count": 12,
   "metadata": {
    "collapsed": false
   },
   "outputs": [
    {
     "name": "stdout",
     "output_type": "stream",
     "text": [
      "gamma = 4.33333333585578\n"
     ]
    }
   ],
   "source": [
    "println(\"gamma = \",JuMP.value(gamma))"
   ]
  },
  {
   "cell_type": "code",
   "execution_count": null,
   "metadata": {
    "collapsed": true
   },
   "outputs": [],
   "source": []
  }
 ],
 "metadata": {
  "kernelspec": {
   "display_name": "Julia 1.1.0",
   "language": "julia",
   "name": "julia-1.1"
  },
  "language_info": {
   "file_extension": ".jl",
   "mimetype": "application/julia",
   "name": "julia",
   "version": "1.1.0"
  }
 },
 "nbformat": 4,
 "nbformat_minor": 2
}
