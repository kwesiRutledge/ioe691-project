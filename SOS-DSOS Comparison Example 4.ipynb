{
 "cells": [
  {
   "cell_type": "markdown",
   "metadata": {},
   "source": [
    "## Example 4: Generalized Peterson Graph GP(6,1)"
   ]
  },
  {
   "cell_type": "code",
   "execution_count": 1,
   "metadata": {
    "collapsed": true
   },
   "outputs": [],
   "source": [
    "n = 12\n",
    "A = [0 1 0 0 0 1 1 0 0 0 0 0;\n",
    "     1 0 1 0 0 0 0 1 0 0 0 0;\n",
    "     0 1 0 1 0 0 0 0 1 0 0 0;\n",
    "     0 0 1 0 1 0 0 0 0 1 0 0;\n",
    "     0 0 0 1 0 1 0 0 0 0 1 0;\n",
    "     1 0 0 0 1 0 0 0 0 0 0 1;\n",
    "     1 0 0 0 0 0 0 1 0 0 0 1;\n",
    "     0 1 0 0 0 0 1 0 1 0 0 0;\n",
    "     0 0 1 0 0 0 0 1 0 1 0 0;\n",
    "     0 0 0 1 0 0 0 0 1 0 1 0;\n",
    "     0 0 0 0 1 0 0 0 0 1 0 1;\n",
    "     0 0 0 0 0 1 1 0 0 0 1 0];"
   ]
  },
  {
   "cell_type": "code",
   "execution_count": 3,
   "metadata": {
    "collapsed": true
   },
   "outputs": [],
   "source": [
    "#Importing Libraries\n",
    "import JuMP\n",
    "import DynamicPolynomials\n",
    "import SumOfSquares\n",
    "import LinearAlgebra\n",
    "import MosekTools #We need an SDP Optimizer"
   ]
  },
  {
   "cell_type": "code",
   "execution_count": 22,
   "metadata": {
    "collapsed": false
   },
   "outputs": [
    {
     "data": {
      "text/plain": [
       "OPTIMAL::TerminationStatusCode = 1"
      ]
     },
     "execution_count": 22,
     "metadata": {},
     "output_type": "execute_result"
    }
   ],
   "source": [
    "using DynamicPolynomials\n",
    "@polyvar x[1:n]\n",
    "\n",
    "P =  (x.*x)'*A*(x.*x)\n",
    "r = 0\n",
    "\n",
    "#Load the Optimizer\n",
    "using MosekTools\n",
    "factory = JuMP.with_optimizer(Mosek.Optimizer, QUIET=true);\n",
    "\n",
    "using SumOfSquares\n",
    "model = SOSModel(factory)\n",
    "@variable(model,gamma)\n",
    "@objective(model,Min,gamma)\n",
    "@constraint(model, ((x.*x)'*(gamma.*(A+LinearAlgebra.I)-ones(n,n))*(x.*x)).*(x'*x)^r in SOSCone())\n",
    "optimize!(model)\n",
    "termination_status(model)"
   ]
  },
  {
   "cell_type": "code",
   "execution_count": 23,
   "metadata": {
    "collapsed": false
   },
   "outputs": [
    {
     "name": "stdout",
     "output_type": "stream",
     "text": [
      "gamma = 6.000000000489322\n"
     ]
    }
   ],
   "source": [
    "println(\"gamma = \",JuMP.value(gamma))"
   ]
  },
  {
   "cell_type": "code",
   "execution_count": null,
   "metadata": {
    "collapsed": true
   },
   "outputs": [],
   "source": []
  }
 ],
 "metadata": {
  "kernelspec": {
   "display_name": "Julia 1.1.0",
   "language": "julia",
   "name": "julia-1.1"
  },
  "language_info": {
   "file_extension": ".jl",
   "mimetype": "application/julia",
   "name": "julia",
   "version": "1.1.0"
  }
 },
 "nbformat": 4,
 "nbformat_minor": 2
}
