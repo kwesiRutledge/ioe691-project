{
 "cells": [
  {
   "cell_type": "markdown",
   "metadata": {},
   "source": [
    "## Example 5: Generalized Peterson Graph GP(7,2)"
   ]
  },
  {
   "cell_type": "code",
   "execution_count": 1,
   "metadata": {
    "collapsed": true
   },
   "outputs": [],
   "source": [
    "n = 14;\n",
    "A = [0 1 0 0 0 0 1 1 0 0 0 0 0 0;\n",
    "     1 0 1 0 0 0 0 0 1 0 0 0 0 0;\n",
    "     0 1 0 1 0 0 0 0 0 1 0 0 0 0;\n",
    "     0 0 1 0 1 0 0 0 0 0 1 0 0 0;\n",
    "     0 0 0 1 0 1 0 0 0 0 0 1 0 0;\n",
    "     0 0 0 0 1 0 1 0 0 0 0 0 1 0;\n",
    "     1 0 0 0 0 1 0 0 0 0 0 0 0 1;\n",
    "     1 0 0 0 0 0 0 0 0 1 0 0 1 0;\n",
    "     0 1 0 0 0 0 0 0 0 0 1 0 0 1;\n",
    "     0 0 1 0 0 0 0 1 0 0 0 1 0 0;\n",
    "     0 0 0 1 0 0 0 0 1 0 0 0 1 0;\n",
    "     0 0 0 0 1 0 0 0 0 1 0 0 0 1;\n",
    "     0 0 0 0 0 1 0 1 0 0 1 0 0 0;\n",
    "     0 0 0 0 0 0 1 0 1 0 0 1 0 0];"
   ]
  },
  {
   "cell_type": "code",
   "execution_count": 2,
   "metadata": {
    "collapsed": true
   },
   "outputs": [],
   "source": [
    "#Importing Libraries\n",
    "import JuMP\n",
    "import DynamicPolynomials\n",
    "import SumOfSquares\n",
    "import LinearAlgebra\n",
    "import MosekTools #We need an SDP Optimizer"
   ]
  },
  {
   "cell_type": "code",
   "execution_count": null,
   "metadata": {
    "collapsed": false
   },
   "outputs": [],
   "source": [
    "using DynamicPolynomials\n",
    "@polyvar x[1:n]\n",
    "\n",
    "P =  (x.*x)'*A*(x.*x)\n",
    "r = 3\n",
    "\n",
    "#Load the Optimizer\n",
    "using MosekTools\n",
    "factory = JuMP.with_optimizer(Mosek.Optimizer, QUIET=true);\n",
    "\n",
    "using SumOfSquares\n",
    "model = SOSModel(factory)\n",
    "@variable(model,gamma)\n",
    "@objective(model,Min,gamma)\n",
    "@constraint(model, ((x.*x)'*(gamma.*(A+LinearAlgebra.I)-ones(n,n))*(x.*x)).*(x'*x)^r in DSOSCone())\n",
    "optimize!(model)\n",
    "termination_status(model)"
   ]
  },
  {
   "cell_type": "code",
   "execution_count": 6,
   "metadata": {
    "collapsed": false
   },
   "outputs": [
    {
     "name": "stdout",
     "output_type": "stream",
     "text": [
      "gamma = 8.818181981177919\n"
     ]
    }
   ],
   "source": [
    "println(\"gamma = \",JuMP.value(gamma))"
   ]
  },
  {
   "cell_type": "code",
   "execution_count": null,
   "metadata": {
    "collapsed": true
   },
   "outputs": [],
   "source": []
  }
 ],
 "metadata": {
  "kernelspec": {
   "display_name": "Julia 1.1.0",
   "language": "julia",
   "name": "julia-1.1"
  },
  "language_info": {
   "file_extension": ".jl",
   "mimetype": "application/julia",
   "name": "julia",
   "version": "1.1.0"
  }
 },
 "nbformat": 4,
 "nbformat_minor": 2
}
